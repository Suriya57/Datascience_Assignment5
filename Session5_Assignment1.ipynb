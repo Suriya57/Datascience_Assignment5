{
 "cells": [
  {
   "cell_type": "code",
   "execution_count": 15,
   "metadata": {},
   "outputs": [
    {
     "name": "stdout",
     "output_type": "stream",
     "text": [
      "Any value can't be divided by zero!!!\n",
      "Demonstration of a Zero division Error\n"
     ]
    }
   ],
   "source": [
    "# Method to return value 5/0\n",
    "def zero_division():\n",
    "    return 5/0\n",
    "\n",
    "try:\n",
    "    # calling the function zero_division to acheive the zero divide error\n",
    "    zero_division()\n",
    "except ZeroDivisionError:\n",
    "        print(\"Any value can't be divided by zero!!!\")\n",
    "# The below exception block is defined to handle exception other than specific error         \n",
    "except Exception:\n",
    "        print(\"Caught an exception\")\n",
    "# The finally block will get executed regardless of the above exeception blocks        \n",
    "finally:\n",
    "    print(\"Demonstration of a Zero division Error\")"
   ]
  },
  {
   "cell_type": "code",
   "execution_count": 34,
   "metadata": {},
   "outputs": [
    {
     "name": "stdout",
     "output_type": "stream",
     "text": [
      "Americans  play Baseball\n",
      "Americans  play Cricket\n",
      "Americans  watch Baseball\n",
      "Americans  watch Cricket\n",
      "Indians play Baseball\n",
      "Indians play Cricket\n",
      "Indians watch Baseball\n",
      "Indians watch Cricket\n"
     ]
    }
   ],
   "source": [
    "# Program to generate sentences \n",
    "class sentence_permutation(object):\n",
    "    # Initialized the subjects,verbs and objects using default constructor __init__()\n",
    "    def __init__(self):\n",
    "        self.subjects = [\"Americans \",\"Indians\"]\n",
    "        self.verbs = [\"play\",\"watch\"]\n",
    "        self.objects = [\"Baseball\",\"Cricket\"]\n",
    "    \n",
    "    # sentence() function to obtain permutation of the three lists using list comprehensation\n",
    "    def sentence(self):\n",
    "        sentences = [(s+\" \"+v+\" \"+o) for s in self.subjects for v in self.verbs for o in self.objects]\n",
    "        # Used a for loop to get the individual sentences from the list of sentences\n",
    "        for lines in sentences:\n",
    "            print(lines)\n",
    "\n",
    "# Creation of an object for the above class\n",
    "sentence_object = sentence_permutation()\n",
    "# function call using the object instance\n",
    "sentence_object.sentence()\n",
    "    "
   ]
  }
 ],
 "metadata": {
  "kernelspec": {
   "display_name": "Python 3",
   "language": "python",
   "name": "python3"
  },
  "language_info": {
   "codemirror_mode": {
    "name": "ipython",
    "version": 3
   },
   "file_extension": ".py",
   "mimetype": "text/x-python",
   "name": "python",
   "nbconvert_exporter": "python",
   "pygments_lexer": "ipython3",
   "version": "3.6.1"
  }
 },
 "nbformat": 4,
 "nbformat_minor": 2
}
